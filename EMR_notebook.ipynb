{
 "cells": [
  {
   "cell_type": "code",
   "execution_count": 1,
   "id": "83c45395-1343-4884-9a4b-f6450add5e4e",
   "metadata": {
    "execution": {
     "iopub.execute_input": "2024-10-24T04:15:32.397674Z",
     "iopub.status.busy": "2024-10-24T04:15:32.396826Z",
     "iopub.status.idle": "2024-10-24T04:16:25.607224Z",
     "shell.execute_reply": "2024-10-24T04:16:25.606155Z",
     "shell.execute_reply.started": "2024-10-24T04:15:32.397624Z"
    },
    "tags": []
   },
   "outputs": [
    {
     "data": {
      "application/vnd.jupyter.widget-view+json": {
       "model_id": "bcf36d66de1c4049917acee460071c30",
       "version_major": 2,
       "version_minor": 0
      },
      "text/plain": [
       "VBox()"
      ]
     },
     "metadata": {},
     "output_type": "display_data"
    },
    {
     "name": "stdout",
     "output_type": "stream",
     "text": [
      "Starting Spark application\n"
     ]
    },
    {
     "data": {
      "text/html": [
       "<table>\n<tbody><tr><th>ID</th><th>YARN Application ID</th><th>Kind</th><th>State</th><th>Spark UI</th><th>Driver log</th><th>User</th><th>Current session?</th></tr><tr><td>1</td><td>application_1729742328054_0002</td><td>pyspark</td><td>idle</td><td><a target=\"_blank\" href=\"http://ip-172-31-62-223.ec2.internal:20888/proxy/application_1729742328054_0002/\" class=\"emr-proxy-link j-2MOD0HW4ZLB2T application_1729742328054_0002\" emr-resource=\"j-2MOD0HW4ZLB2T\n\" application-id=\"application_1729742328054_0002\">Link</a></td><td><a target=\"_blank\" href=\"http://ip-172-31-62-223.ec2.internal:8042/node/containerlogs/container_1729742328054_0002_01_000001/livy\">Link</a></td><td>None</td><td>✔</td></tr></tbody></table>"
      ],
      "text/plain": [
       "<IPython.core.display.HTML object>"
      ]
     },
     "metadata": {},
     "output_type": "display_data"
    },
    {
     "data": {
      "application/vnd.jupyter.widget-view+json": {
       "model_id": "",
       "version_major": 2,
       "version_minor": 0
      },
      "text/plain": [
       "FloatProgress(value=0.0, bar_style='info', description='Progress:', layout=Layout(height='25px', width='50%'),…"
      ]
     },
     "metadata": {},
     "output_type": "display_data"
    },
    {
     "name": "stdout",
     "output_type": "stream",
     "text": [
      "SparkSession available as 'spark'.\n"
     ]
    },
    {
     "data": {
      "application/vnd.jupyter.widget-view+json": {
       "model_id": "",
       "version_major": 2,
       "version_minor": 0
      },
      "text/plain": [
       "FloatProgress(value=0.0, bar_style='info', description='Progress:', layout=Layout(height='25px', width='50%'),…"
      ]
     },
     "metadata": {},
     "output_type": "display_data"
    },
    {
     "name": "stdout",
     "output_type": "stream",
     "text": [
      "<pyspark.sql.session.SparkSession object at 0x7fecc21ecdc0>"
     ]
    }
   ],
   "source": [
    "spark"
   ]
  },
  {
   "cell_type": "code",
   "execution_count": 3,
   "id": "a5969785-222d-4641-be5a-8a30da910d94",
   "metadata": {
    "execution": {
     "iopub.execute_input": "2024-10-24T04:17:18.192285Z",
     "iopub.status.busy": "2024-10-24T04:17:18.192019Z",
     "iopub.status.idle": "2024-10-24T04:17:18.272568Z",
     "shell.execute_reply": "2024-10-24T04:17:18.271609Z",
     "shell.execute_reply.started": "2024-10-24T04:17:18.192253Z"
    },
    "tags": []
   },
   "outputs": [
    {
     "data": {
      "application/vnd.jupyter.widget-view+json": {
       "model_id": "f54dc16b0b3c403b962684e6b098336a",
       "version_major": 2,
       "version_minor": 0
      },
      "text/plain": [
       "VBox()"
      ]
     },
     "metadata": {},
     "output_type": "display_data"
    },
    {
     "data": {
      "application/vnd.jupyter.widget-view+json": {
       "model_id": "",
       "version_major": 2,
       "version_minor": 0
      },
      "text/plain": [
       "FloatProgress(value=0.0, bar_style='info', description='Progress:', layout=Layout(height='25px', width='50%'),…"
      ]
     },
     "metadata": {},
     "output_type": "display_data"
    }
   ],
   "source": [
    "sc = spark.sparkContext"
   ]
  },
  {
   "cell_type": "code",
   "execution_count": 4,
   "id": "4f034d15-44b2-4ab8-95d4-d4cfb1307886",
   "metadata": {
    "execution": {
     "iopub.execute_input": "2024-10-24T04:17:25.699975Z",
     "iopub.status.busy": "2024-10-24T04:17:25.699659Z",
     "iopub.status.idle": "2024-10-24T04:17:25.772561Z",
     "shell.execute_reply": "2024-10-24T04:17:25.770953Z",
     "shell.execute_reply.started": "2024-10-24T04:17:25.699940Z"
    }
   },
   "outputs": [
    {
     "data": {
      "application/vnd.jupyter.widget-view+json": {
       "model_id": "a3c99a319abf4036a273cfa1513a2c87",
       "version_major": 2,
       "version_minor": 0
      },
      "text/plain": [
       "VBox()"
      ]
     },
     "metadata": {},
     "output_type": "display_data"
    },
    {
     "data": {
      "application/vnd.jupyter.widget-view+json": {
       "model_id": "",
       "version_major": 2,
       "version_minor": 0
      },
      "text/plain": [
       "FloatProgress(value=0.0, bar_style='info', description='Progress:', layout=Layout(height='25px', width='50%'),…"
      ]
     },
     "metadata": {},
     "output_type": "display_data"
    },
    {
     "name": "stdout",
     "output_type": "stream",
     "text": [
      "<SparkContext master=yarn appName=livy-session-1>"
     ]
    }
   ],
   "source": [
    "sc"
   ]
  },
  {
   "cell_type": "code",
   "execution_count": 7,
   "id": "63027e03-eadf-40bd-bcc5-362ddda972e3",
   "metadata": {
    "execution": {
     "iopub.execute_input": "2024-10-24T04:22:46.230548Z",
     "iopub.status.busy": "2024-10-24T04:22:46.230290Z",
     "iopub.status.idle": "2024-10-24T04:23:03.694017Z",
     "shell.execute_reply": "2024-10-24T04:23:03.692932Z",
     "shell.execute_reply.started": "2024-10-24T04:22:46.230514Z"
    },
    "tags": []
   },
   "outputs": [
    {
     "data": {
      "application/vnd.jupyter.widget-view+json": {
       "model_id": "96cac688e0a04dbfba4b1f5707e33ca0",
       "version_major": 2,
       "version_minor": 0
      },
      "text/plain": [
       "VBox()"
      ]
     },
     "metadata": {},
     "output_type": "display_data"
    },
    {
     "data": {
      "application/vnd.jupyter.widget-view+json": {
       "model_id": "",
       "version_major": 2,
       "version_minor": 0
      },
      "text/plain": [
       "FloatProgress(value=0.0, bar_style='info', description='Progress:', layout=Layout(height='25px', width='50%'),…"
      ]
     },
     "metadata": {},
     "output_type": "display_data"
    }
   ],
   "source": [
    "df = spark.read.csv(\"s3://aws-emr-studio-092894105873-us-east-1/music_data.csv\", inferSchema = True, header = True)"
   ]
  },
  {
   "cell_type": "code",
   "execution_count": 8,
   "id": "d8b8716a-35ac-4639-88f6-5d76ddaa01f2",
   "metadata": {
    "execution": {
     "iopub.execute_input": "2024-10-24T04:23:14.272364Z",
     "iopub.status.busy": "2024-10-24T04:23:14.271948Z",
     "iopub.status.idle": "2024-10-24T04:23:14.563986Z",
     "shell.execute_reply": "2024-10-24T04:23:14.562846Z",
     "shell.execute_reply.started": "2024-10-24T04:23:14.272315Z"
    },
    "tags": []
   },
   "outputs": [
    {
     "data": {
      "application/vnd.jupyter.widget-view+json": {
       "model_id": "8735dbfca4584d038d21785c461f9aca",
       "version_major": 2,
       "version_minor": 0
      },
      "text/plain": [
       "VBox()"
      ]
     },
     "metadata": {},
     "output_type": "display_data"
    },
    {
     "data": {
      "application/vnd.jupyter.widget-view+json": {
       "model_id": "",
       "version_major": 2,
       "version_minor": 0
      },
      "text/plain": [
       "FloatProgress(value=0.0, bar_style='info', description='Progress:', layout=Layout(height='25px', width='50%'),…"
      ]
     },
     "metadata": {},
     "output_type": "display_data"
    },
    {
     "name": "stdout",
     "output_type": "stream",
     "text": [
      "DataFrame[userid: string, artistid: string, artist_name: string, plays: int]"
     ]
    }
   ],
   "source": [
    "df.cache()"
   ]
  },
  {
   "cell_type": "code",
   "execution_count": 9,
   "id": "0ab533c8-f20d-4959-bd7f-54ea9e890220",
   "metadata": {
    "execution": {
     "iopub.execute_input": "2024-10-24T04:23:25.569725Z",
     "iopub.status.busy": "2024-10-24T04:23:25.569441Z",
     "iopub.status.idle": "2024-10-24T04:23:26.888425Z",
     "shell.execute_reply": "2024-10-24T04:23:26.887086Z",
     "shell.execute_reply.started": "2024-10-24T04:23:25.569691Z"
    }
   },
   "outputs": [
    {
     "data": {
      "application/vnd.jupyter.widget-view+json": {
       "model_id": "7bc36a1cb2974411844286aed7ab2b5f",
       "version_major": 2,
       "version_minor": 0
      },
      "text/plain": [
       "VBox()"
      ]
     },
     "metadata": {},
     "output_type": "display_data"
    },
    {
     "data": {
      "application/vnd.jupyter.widget-view+json": {
       "model_id": "",
       "version_major": 2,
       "version_minor": 0
      },
      "text/plain": [
       "FloatProgress(value=0.0, bar_style='info', description='Progress:', layout=Layout(height='25px', width='50%'),…"
      ]
     },
     "metadata": {},
     "output_type": "display_data"
    },
    {
     "name": "stdout",
     "output_type": "stream",
     "text": [
      "+--------------------+--------------------+--------------------+-----+\n",
      "|              userid|            artistid|         artist_name|plays|\n",
      "+--------------------+--------------------+--------------------+-----+\n",
      "|00000c289a1829a80...|3bd73256-3905-4f3...|     betty blowtorch| 2137|\n",
      "|00000c289a1829a80...|f2fb0ff0-5679-42e...|           die Ärzte| 1099|\n",
      "|00000c289a1829a80...|b3ae82c2-e60b-455...|   melissa etheridge|  897|\n",
      "|00000c289a1829a80...|3d6bbeb7-f90e-4d1...|           elvenking|  717|\n",
      "|00000c289a1829a80...|bbd2ffd7-17f4-450...|juliette & the licks|  706|\n",
      "|00000c289a1829a80...|8bfac288-ccc5-448...|red hot chili pep...|  691|\n",
      "|00000c289a1829a80...|6531c8b1-76ea-414...|              magica|  545|\n",
      "|00000c289a1829a80...|21f3573f-10cf-44b...|the black dahlia ...|  507|\n",
      "|00000c289a1829a80...|c5db90c4-580d-4f3...|         the murmurs|  424|\n",
      "|00000c289a1829a80...|0639533a-0402-40b...|          lunachicks|  403|\n",
      "|00000c289a1829a80...|a342964d-ca53-4e5...|    walls of jericho|  393|\n",
      "|00000c289a1829a80...|f779ed95-66c8-449...|      letzte instanz|  387|\n",
      "|00000c289a1829a80...|7b885d42-3c41-4f4...|           goldfrapp|  361|\n",
      "|00000c289a1829a80...|e000d76b-afff-428...|          horrorpops|  358|\n",
      "|00000c289a1829a80...|adf334c2-9186-48c...|        the butchies|  329|\n",
      "|00000c289a1829a80...|7e870dd5-2667-454...|       jack off jill|  316|\n",
      "|00000c289a1829a80...|41593aa1-dda6-4a5...|    babes in toyland|  310|\n",
      "|00000c289a1829a80...|e8374874-4178-486...|    dropkick murphys|  302|\n",
      "|00000c289a1829a80...|295a3ae3-9e81-4cf...|       all:my:faults|  288|\n",
      "|00000c289a1829a80...|2d67239c-aa40-4ad...|            le tigre|  281|\n",
      "+--------------------+--------------------+--------------------+-----+\n",
      "only showing top 20 rows"
     ]
    }
   ],
   "source": [
    "df.show()"
   ]
  },
  {
   "cell_type": "code",
   "execution_count": 10,
   "id": "5a68b223-4f11-4d49-8dcd-64f6b225cdbe",
   "metadata": {
    "execution": {
     "iopub.execute_input": "2024-10-24T04:23:43.350217Z",
     "iopub.status.busy": "2024-10-24T04:23:43.349923Z",
     "iopub.status.idle": "2024-10-24T04:23:44.681162Z",
     "shell.execute_reply": "2024-10-24T04:23:44.679698Z",
     "shell.execute_reply.started": "2024-10-24T04:23:43.350172Z"
    }
   },
   "outputs": [
    {
     "data": {
      "application/vnd.jupyter.widget-view+json": {
       "model_id": "e723096467344bf083b2850ba7eda1fb",
       "version_major": 2,
       "version_minor": 0
      },
      "text/plain": [
       "VBox()"
      ]
     },
     "metadata": {},
     "output_type": "display_data"
    },
    {
     "data": {
      "application/vnd.jupyter.widget-view+json": {
       "model_id": "",
       "version_major": 2,
       "version_minor": 0
      },
      "text/plain": [
       "FloatProgress(value=0.0, bar_style='info', description='Progress:', layout=Layout(height='25px', width='50%'),…"
      ]
     },
     "metadata": {},
     "output_type": "display_data"
    },
    {
     "name": "stdout",
     "output_type": "stream",
     "text": [
      "999"
     ]
    }
   ],
   "source": [
    "df.count()"
   ]
  },
  {
   "cell_type": "code",
   "execution_count": 11,
   "id": "7ad65af5-e21b-41d2-b3f4-abf7829a30c8",
   "metadata": {
    "execution": {
     "iopub.execute_input": "2024-10-24T04:24:46.173943Z",
     "iopub.status.busy": "2024-10-24T04:24:46.173662Z",
     "iopub.status.idle": "2024-10-24T04:24:46.458508Z",
     "shell.execute_reply": "2024-10-24T04:24:46.457332Z",
     "shell.execute_reply.started": "2024-10-24T04:24:46.173893Z"
    }
   },
   "outputs": [
    {
     "data": {
      "application/vnd.jupyter.widget-view+json": {
       "model_id": "ef31b256da374e589a67088d81372aba",
       "version_major": 2,
       "version_minor": 0
      },
      "text/plain": [
       "VBox()"
      ]
     },
     "metadata": {},
     "output_type": "display_data"
    },
    {
     "data": {
      "application/vnd.jupyter.widget-view+json": {
       "model_id": "",
       "version_major": 2,
       "version_minor": 0
      },
      "text/plain": [
       "FloatProgress(value=0.0, bar_style='info', description='Progress:', layout=Layout(height='25px', width='50%'),…"
      ]
     },
     "metadata": {},
     "output_type": "display_data"
    }
   ],
   "source": [
    "df_select = df.select([\"artist_name\", \"plays\"])"
   ]
  },
  {
   "cell_type": "code",
   "execution_count": 12,
   "id": "5adbca84-684f-44d2-ba5a-340cf740b77e",
   "metadata": {
    "execution": {
     "iopub.execute_input": "2024-10-24T04:25:09.592181Z",
     "iopub.status.busy": "2024-10-24T04:25:09.591875Z",
     "iopub.status.idle": "2024-10-24T04:25:10.395289Z",
     "shell.execute_reply": "2024-10-24T04:25:10.393882Z",
     "shell.execute_reply.started": "2024-10-24T04:25:09.592147Z"
    }
   },
   "outputs": [
    {
     "data": {
      "application/vnd.jupyter.widget-view+json": {
       "model_id": "09605938b6654da582654bdb721abd92",
       "version_major": 2,
       "version_minor": 0
      },
      "text/plain": [
       "VBox()"
      ]
     },
     "metadata": {},
     "output_type": "display_data"
    },
    {
     "data": {
      "application/vnd.jupyter.widget-view+json": {
       "model_id": "",
       "version_major": 2,
       "version_minor": 0
      },
      "text/plain": [
       "FloatProgress(value=0.0, bar_style='info', description='Progress:', layout=Layout(height='25px', width='50%'),…"
      ]
     },
     "metadata": {},
     "output_type": "display_data"
    },
    {
     "name": "stdout",
     "output_type": "stream",
     "text": [
      "+--------------------+-----+\n",
      "|         artist_name|plays|\n",
      "+--------------------+-----+\n",
      "|     betty blowtorch| 2137|\n",
      "|           die Ärzte| 1099|\n",
      "|   melissa etheridge|  897|\n",
      "|           elvenking|  717|\n",
      "|juliette & the licks|  706|\n",
      "|red hot chili pep...|  691|\n",
      "|              magica|  545|\n",
      "|the black dahlia ...|  507|\n",
      "|         the murmurs|  424|\n",
      "|          lunachicks|  403|\n",
      "|    walls of jericho|  393|\n",
      "|      letzte instanz|  387|\n",
      "|           goldfrapp|  361|\n",
      "|          horrorpops|  358|\n",
      "|        the butchies|  329|\n",
      "|       jack off jill|  316|\n",
      "|    babes in toyland|  310|\n",
      "|    dropkick murphys|  302|\n",
      "|       all:my:faults|  288|\n",
      "|            le tigre|  281|\n",
      "+--------------------+-----+\n",
      "only showing top 20 rows"
     ]
    }
   ],
   "source": [
    "df_select.show()"
   ]
  },
  {
   "cell_type": "code",
   "execution_count": 13,
   "id": "135c50a0-c1e8-4a78-a6a6-ae3860afce19",
   "metadata": {
    "execution": {
     "iopub.execute_input": "2024-10-24T04:25:22.704561Z",
     "iopub.status.busy": "2024-10-24T04:25:22.704252Z",
     "iopub.status.idle": "2024-10-24T04:25:23.513519Z",
     "shell.execute_reply": "2024-10-24T04:25:23.512512Z",
     "shell.execute_reply.started": "2024-10-24T04:25:22.704527Z"
    }
   },
   "outputs": [
    {
     "data": {
      "application/vnd.jupyter.widget-view+json": {
       "model_id": "b5efced37e8145cba8006a2567591da9",
       "version_major": 2,
       "version_minor": 0
      },
      "text/plain": [
       "VBox()"
      ]
     },
     "metadata": {},
     "output_type": "display_data"
    },
    {
     "data": {
      "application/vnd.jupyter.widget-view+json": {
       "model_id": "",
       "version_major": 2,
       "version_minor": 0
      },
      "text/plain": [
       "FloatProgress(value=0.0, bar_style='info', description='Progress:', layout=Layout(height='25px', width='50%'),…"
      ]
     },
     "metadata": {},
     "output_type": "display_data"
    },
    {
     "name": "stdout",
     "output_type": "stream",
     "text": [
      "999"
     ]
    }
   ],
   "source": [
    "df_select.count()"
   ]
  },
  {
   "cell_type": "code",
   "execution_count": 19,
   "id": "4e013b04-e984-4bcd-a062-e60aeab8b4c5",
   "metadata": {
    "execution": {
     "iopub.execute_input": "2024-10-24T04:28:49.536722Z",
     "iopub.status.busy": "2024-10-24T04:28:49.536438Z",
     "iopub.status.idle": "2024-10-24T04:28:49.819631Z",
     "shell.execute_reply": "2024-10-24T04:28:49.818616Z",
     "shell.execute_reply.started": "2024-10-24T04:28:49.536688Z"
    },
    "tags": []
   },
   "outputs": [
    {
     "data": {
      "application/vnd.jupyter.widget-view+json": {
       "model_id": "625f9ca3aa694b4a919098396ff6db15",
       "version_major": 2,
       "version_minor": 0
      },
      "text/plain": [
       "VBox()"
      ]
     },
     "metadata": {},
     "output_type": "display_data"
    },
    {
     "data": {
      "application/vnd.jupyter.widget-view+json": {
       "model_id": "",
       "version_major": 2,
       "version_minor": 0
      },
      "text/plain": [
       "FloatProgress(value=0.0, bar_style='info', description='Progress:', layout=Layout(height='25px', width='50%'),…"
      ]
     },
     "metadata": {},
     "output_type": "display_data"
    }
   ],
   "source": [
    "artist_agg = df_select.groupby(\"artist_name\").sum()"
   ]
  },
  {
   "cell_type": "code",
   "execution_count": 20,
   "id": "01d47a3f-d651-436f-9a07-4a59634dc5a0",
   "metadata": {
    "execution": {
     "iopub.execute_input": "2024-10-24T04:28:54.133343Z",
     "iopub.status.busy": "2024-10-24T04:28:54.133078Z",
     "iopub.status.idle": "2024-10-24T04:28:54.929321Z",
     "shell.execute_reply": "2024-10-24T04:28:54.928195Z",
     "shell.execute_reply.started": "2024-10-24T04:28:54.133311Z"
    },
    "tags": []
   },
   "outputs": [
    {
     "data": {
      "application/vnd.jupyter.widget-view+json": {
       "model_id": "d3a802648d0142f19a2cd627c6613f4b",
       "version_major": 2,
       "version_minor": 0
      },
      "text/plain": [
       "VBox()"
      ]
     },
     "metadata": {},
     "output_type": "display_data"
    },
    {
     "data": {
      "application/vnd.jupyter.widget-view+json": {
       "model_id": "",
       "version_major": 2,
       "version_minor": 0
      },
      "text/plain": [
       "FloatProgress(value=0.0, bar_style='info', description='Progress:', layout=Layout(height='25px', width='50%'),…"
      ]
     },
     "metadata": {},
     "output_type": "display_data"
    },
    {
     "name": "stdout",
     "output_type": "stream",
     "text": [
      "+--------------------+----------+\n",
      "|         artist_name|sum(plays)|\n",
      "+--------------------+----------+\n",
      "|         the beatles|      1041|\n",
      "|           lil wayne|        32|\n",
      "|      gnarls barkley|       200|\n",
      "|     pedro abrunhosa|       254|\n",
      "|          hoobastank|       313|\n",
      "|             erasure|        16|\n",
      "|      the verve pipe|       151|\n",
      "|           goldfrapp|       486|\n",
      "|           in flames|       475|\n",
      "|roni size & repra...|        26|\n",
      "|            mstrkrft|      2102|\n",
      "|             j dilla|       124|\n",
      "|orchestral manoeu...|       439|\n",
      "|        andrew liles|       248|\n",
      "|         iron maiden|      1523|\n",
      "|  the tough alliance|       148|\n",
      "|    moving mountains|       351|\n",
      "|               ulver|        52|\n",
      "|          the smiths|        96|\n",
      "|          clawfinger|        38|\n",
      "+--------------------+----------+\n",
      "only showing top 20 rows"
     ]
    }
   ],
   "source": [
    "artist_agg.show()"
   ]
  },
  {
   "cell_type": "code",
   "execution_count": 21,
   "id": "a2c8f486-03fe-46c3-92c6-8ee17d483987",
   "metadata": {
    "execution": {
     "iopub.execute_input": "2024-10-24T04:29:07.881179Z",
     "iopub.status.busy": "2024-10-24T04:29:07.880926Z",
     "iopub.status.idle": "2024-10-24T04:29:07.955997Z",
     "shell.execute_reply": "2024-10-24T04:29:07.954928Z",
     "shell.execute_reply.started": "2024-10-24T04:29:07.881146Z"
    }
   },
   "outputs": [
    {
     "data": {
      "application/vnd.jupyter.widget-view+json": {
       "model_id": "7405632aa0c34f5eb40afe13e6f17462",
       "version_major": 2,
       "version_minor": 0
      },
      "text/plain": [
       "VBox()"
      ]
     },
     "metadata": {},
     "output_type": "display_data"
    },
    {
     "data": {
      "application/vnd.jupyter.widget-view+json": {
       "model_id": "",
       "version_major": 2,
       "version_minor": 0
      },
      "text/plain": [
       "FloatProgress(value=0.0, bar_style='info', description='Progress:', layout=Layout(height='25px', width='50%'),…"
      ]
     },
     "metadata": {},
     "output_type": "display_data"
    },
    {
     "name": "stdout",
     "output_type": "stream",
     "text": [
      "['artist_name', 'sum(plays)']"
     ]
    }
   ],
   "source": [
    "artist_agg.columns"
   ]
  },
  {
   "cell_type": "code",
   "execution_count": 22,
   "id": "fd651d04-89f3-4923-b389-7a0ba55a3d45",
   "metadata": {
    "execution": {
     "iopub.execute_input": "2024-10-24T04:29:53.778909Z",
     "iopub.status.busy": "2024-10-24T04:29:53.778626Z",
     "iopub.status.idle": "2024-10-24T04:29:53.856965Z",
     "shell.execute_reply": "2024-10-24T04:29:53.855683Z",
     "shell.execute_reply.started": "2024-10-24T04:29:53.778887Z"
    }
   },
   "outputs": [
    {
     "data": {
      "application/vnd.jupyter.widget-view+json": {
       "model_id": "c2c91f858c024648bc0cc17034e922ef",
       "version_major": 2,
       "version_minor": 0
      },
      "text/plain": [
       "VBox()"
      ]
     },
     "metadata": {},
     "output_type": "display_data"
    },
    {
     "data": {
      "application/vnd.jupyter.widget-view+json": {
       "model_id": "",
       "version_major": 2,
       "version_minor": 0
      },
      "text/plain": [
       "FloatProgress(value=0.0, bar_style='info', description='Progress:', layout=Layout(height='25px', width='50%'),…"
      ]
     },
     "metadata": {},
     "output_type": "display_data"
    }
   ],
   "source": [
    "artist_data = artist_agg.withColumnRenamed(\"sum(plays)\", \"total_plays\")"
   ]
  },
  {
   "cell_type": "code",
   "execution_count": 23,
   "id": "9056a5eb-b8a8-438d-b8b1-6194d01ba785",
   "metadata": {
    "execution": {
     "iopub.execute_input": "2024-10-24T04:30:14.226753Z",
     "iopub.status.busy": "2024-10-24T04:30:14.226472Z",
     "iopub.status.idle": "2024-10-24T04:30:15.051058Z",
     "shell.execute_reply": "2024-10-24T04:30:15.049908Z",
     "shell.execute_reply.started": "2024-10-24T04:30:14.226718Z"
    }
   },
   "outputs": [
    {
     "data": {
      "application/vnd.jupyter.widget-view+json": {
       "model_id": "b1e33b030a2b4e6397f965b4717fa004",
       "version_major": 2,
       "version_minor": 0
      },
      "text/plain": [
       "VBox()"
      ]
     },
     "metadata": {},
     "output_type": "display_data"
    },
    {
     "data": {
      "application/vnd.jupyter.widget-view+json": {
       "model_id": "",
       "version_major": 2,
       "version_minor": 0
      },
      "text/plain": [
       "FloatProgress(value=0.0, bar_style='info', description='Progress:', layout=Layout(height='25px', width='50%'),…"
      ]
     },
     "metadata": {},
     "output_type": "display_data"
    },
    {
     "name": "stdout",
     "output_type": "stream",
     "text": [
      "+--------------------+-----------+\n",
      "|         artist_name|total_plays|\n",
      "+--------------------+-----------+\n",
      "|         the beatles|       1041|\n",
      "|           lil wayne|         32|\n",
      "|      gnarls barkley|        200|\n",
      "|     pedro abrunhosa|        254|\n",
      "|          hoobastank|        313|\n",
      "|             erasure|         16|\n",
      "|      the verve pipe|        151|\n",
      "|           goldfrapp|        486|\n",
      "|           in flames|        475|\n",
      "|roni size & repra...|         26|\n",
      "|            mstrkrft|       2102|\n",
      "|             j dilla|        124|\n",
      "|orchestral manoeu...|        439|\n",
      "|        andrew liles|        248|\n",
      "|         iron maiden|       1523|\n",
      "|  the tough alliance|        148|\n",
      "|    moving mountains|        351|\n",
      "|               ulver|         52|\n",
      "|          the smiths|         96|\n",
      "|          clawfinger|         38|\n",
      "+--------------------+-----------+\n",
      "only showing top 20 rows"
     ]
    }
   ],
   "source": [
    "artist_data.show()"
   ]
  },
  {
   "cell_type": "code",
   "execution_count": 24,
   "id": "8db1427e-a5bd-4575-86d3-54eaa1c375cf",
   "metadata": {
    "execution": {
     "iopub.execute_input": "2024-10-24T04:31:26.334955Z",
     "iopub.status.busy": "2024-10-24T04:31:26.334546Z",
     "iopub.status.idle": "2024-10-24T04:31:27.169924Z",
     "shell.execute_reply": "2024-10-24T04:31:27.168839Z",
     "shell.execute_reply.started": "2024-10-24T04:31:26.334901Z"
    }
   },
   "outputs": [
    {
     "data": {
      "application/vnd.jupyter.widget-view+json": {
       "model_id": "591ad163bc324f729377104e2ba306e8",
       "version_major": 2,
       "version_minor": 0
      },
      "text/plain": [
       "VBox()"
      ]
     },
     "metadata": {},
     "output_type": "display_data"
    },
    {
     "data": {
      "application/vnd.jupyter.widget-view+json": {
       "model_id": "",
       "version_major": 2,
       "version_minor": 0
      },
      "text/plain": [
       "FloatProgress(value=0.0, bar_style='info', description='Progress:', layout=Layout(height='25px', width='50%'),…"
      ]
     },
     "metadata": {},
     "output_type": "display_data"
    }
   ],
   "source": [
    "from pyspark.ml.feature import VectorAssembler\n"
   ]
  },
  {
   "cell_type": "code",
   "execution_count": 26,
   "id": "7aac8cc6-a925-4653-81e5-68c252fd43c2",
   "metadata": {
    "execution": {
     "iopub.execute_input": "2024-10-24T04:32:41.903262Z",
     "iopub.status.busy": "2024-10-24T04:32:41.902921Z",
     "iopub.status.idle": "2024-10-24T04:32:41.978491Z",
     "shell.execute_reply": "2024-10-24T04:32:41.977374Z",
     "shell.execute_reply.started": "2024-10-24T04:32:41.903227Z"
    },
    "tags": []
   },
   "outputs": [
    {
     "data": {
      "application/vnd.jupyter.widget-view+json": {
       "model_id": "b87de6f5b67d4583a5a4fc6a7cef9b6d",
       "version_major": 2,
       "version_minor": 0
      },
      "text/plain": [
       "VBox()"
      ]
     },
     "metadata": {},
     "output_type": "display_data"
    },
    {
     "data": {
      "application/vnd.jupyter.widget-view+json": {
       "model_id": "",
       "version_major": 2,
       "version_minor": 0
      },
      "text/plain": [
       "FloatProgress(value=0.0, bar_style='info', description='Progress:', layout=Layout(height='25px', width='50%'),…"
      ]
     },
     "metadata": {},
     "output_type": "display_data"
    }
   ],
   "source": [
    "assembler = VectorAssembler(inputCols=[\"total_plays\"], outputCol = \"features\")"
   ]
  },
  {
   "cell_type": "code",
   "execution_count": 27,
   "id": "b5b4037b-cb44-4202-b656-7a00756d0537",
   "metadata": {
    "execution": {
     "iopub.execute_input": "2024-10-24T04:33:25.280383Z",
     "iopub.status.busy": "2024-10-24T04:33:25.280042Z",
     "iopub.status.idle": "2024-10-24T04:33:25.585117Z",
     "shell.execute_reply": "2024-10-24T04:33:25.584025Z",
     "shell.execute_reply.started": "2024-10-24T04:33:25.280333Z"
    }
   },
   "outputs": [
    {
     "data": {
      "application/vnd.jupyter.widget-view+json": {
       "model_id": "479905d712c54fca9a52cbc46d3ec595",
       "version_major": 2,
       "version_minor": 0
      },
      "text/plain": [
       "VBox()"
      ]
     },
     "metadata": {},
     "output_type": "display_data"
    },
    {
     "data": {
      "application/vnd.jupyter.widget-view+json": {
       "model_id": "",
       "version_major": 2,
       "version_minor": 0
      },
      "text/plain": [
       "FloatProgress(value=0.0, bar_style='info', description='Progress:', layout=Layout(height='25px', width='50%'),…"
      ]
     },
     "metadata": {},
     "output_type": "display_data"
    }
   ],
   "source": [
    "model_data = assembler.transform(artist_data)"
   ]
  },
  {
   "cell_type": "code",
   "execution_count": 28,
   "id": "b25ee04f-0572-447e-a843-e9408933eb8e",
   "metadata": {
    "execution": {
     "iopub.execute_input": "2024-10-24T04:33:37.385658Z",
     "iopub.status.busy": "2024-10-24T04:33:37.385381Z",
     "iopub.status.idle": "2024-10-24T04:33:38.699561Z",
     "shell.execute_reply": "2024-10-24T04:33:38.698193Z",
     "shell.execute_reply.started": "2024-10-24T04:33:37.385625Z"
    }
   },
   "outputs": [
    {
     "data": {
      "application/vnd.jupyter.widget-view+json": {
       "model_id": "fbeee7d45eeb4ecf894a81e9eda6757d",
       "version_major": 2,
       "version_minor": 0
      },
      "text/plain": [
       "VBox()"
      ]
     },
     "metadata": {},
     "output_type": "display_data"
    },
    {
     "data": {
      "application/vnd.jupyter.widget-view+json": {
       "model_id": "",
       "version_major": 2,
       "version_minor": 0
      },
      "text/plain": [
       "FloatProgress(value=0.0, bar_style='info', description='Progress:', layout=Layout(height='25px', width='50%'),…"
      ]
     },
     "metadata": {},
     "output_type": "display_data"
    },
    {
     "name": "stdout",
     "output_type": "stream",
     "text": [
      "+--------------------+-----------+--------+\n",
      "|         artist_name|total_plays|features|\n",
      "+--------------------+-----------+--------+\n",
      "|         the beatles|       1041|[1041.0]|\n",
      "|           lil wayne|         32|  [32.0]|\n",
      "|      gnarls barkley|        200| [200.0]|\n",
      "|     pedro abrunhosa|        254| [254.0]|\n",
      "|          hoobastank|        313| [313.0]|\n",
      "|             erasure|         16|  [16.0]|\n",
      "|      the verve pipe|        151| [151.0]|\n",
      "|           goldfrapp|        486| [486.0]|\n",
      "|           in flames|        475| [475.0]|\n",
      "|roni size & repra...|         26|  [26.0]|\n",
      "|            mstrkrft|       2102|[2102.0]|\n",
      "|             j dilla|        124| [124.0]|\n",
      "|orchestral manoeu...|        439| [439.0]|\n",
      "|        andrew liles|        248| [248.0]|\n",
      "|         iron maiden|       1523|[1523.0]|\n",
      "|  the tough alliance|        148| [148.0]|\n",
      "|    moving mountains|        351| [351.0]|\n",
      "|               ulver|         52|  [52.0]|\n",
      "|          the smiths|         96|  [96.0]|\n",
      "|          clawfinger|         38|  [38.0]|\n",
      "+--------------------+-----------+--------+\n",
      "only showing top 20 rows"
     ]
    }
   ],
   "source": [
    "model_data.show()"
   ]
  },
  {
   "cell_type": "code",
   "execution_count": 29,
   "id": "3d81d4a6-54df-45b6-aff6-cb697c10c1de",
   "metadata": {
    "execution": {
     "iopub.execute_input": "2024-10-24T04:34:29.769805Z",
     "iopub.status.busy": "2024-10-24T04:34:29.769506Z",
     "iopub.status.idle": "2024-10-24T04:34:29.843566Z",
     "shell.execute_reply": "2024-10-24T04:34:29.842440Z",
     "shell.execute_reply.started": "2024-10-24T04:34:29.769769Z"
    }
   },
   "outputs": [
    {
     "data": {
      "application/vnd.jupyter.widget-view+json": {
       "model_id": "f0bad7e1e8884700b2881ece6eb41c4f",
       "version_major": 2,
       "version_minor": 0
      },
      "text/plain": [
       "VBox()"
      ]
     },
     "metadata": {},
     "output_type": "display_data"
    },
    {
     "data": {
      "application/vnd.jupyter.widget-view+json": {
       "model_id": "",
       "version_major": 2,
       "version_minor": 0
      },
      "text/plain": [
       "FloatProgress(value=0.0, bar_style='info', description='Progress:', layout=Layout(height='25px', width='50%'),…"
      ]
     },
     "metadata": {},
     "output_type": "display_data"
    }
   ],
   "source": [
    "#model building"
   ]
  },
  {
   "cell_type": "code",
   "execution_count": 30,
   "id": "20a988cc-bb51-4fcc-a621-915c0d35be2d",
   "metadata": {
    "execution": {
     "iopub.execute_input": "2024-10-24T04:36:05.076883Z",
     "iopub.status.busy": "2024-10-24T04:36:05.076603Z",
     "iopub.status.idle": "2024-10-24T04:36:05.145839Z",
     "shell.execute_reply": "2024-10-24T04:36:05.144804Z",
     "shell.execute_reply.started": "2024-10-24T04:36:05.076849Z"
    }
   },
   "outputs": [
    {
     "data": {
      "application/vnd.jupyter.widget-view+json": {
       "model_id": "df48f59a0a0d4c6a8d0a9c4ed49dfafd",
       "version_major": 2,
       "version_minor": 0
      },
      "text/plain": [
       "VBox()"
      ]
     },
     "metadata": {},
     "output_type": "display_data"
    },
    {
     "data": {
      "application/vnd.jupyter.widget-view+json": {
       "model_id": "",
       "version_major": 2,
       "version_minor": 0
      },
      "text/plain": [
       "FloatProgress(value=0.0, bar_style='info', description='Progress:', layout=Layout(height='25px', width='50%'),…"
      ]
     },
     "metadata": {},
     "output_type": "display_data"
    }
   ],
   "source": [
    "from pyspark.ml.clustering import KMeans\n",
    "from pyspark.ml.evaluation import ClusteringEvaluator"
   ]
  },
  {
   "cell_type": "code",
   "execution_count": 31,
   "id": "ee91cf53-4b15-4798-94a6-401e7d16941f",
   "metadata": {
    "execution": {
     "iopub.execute_input": "2024-10-24T04:36:22.074675Z",
     "iopub.status.busy": "2024-10-24T04:36:22.074382Z",
     "iopub.status.idle": "2024-10-24T04:36:22.371978Z",
     "shell.execute_reply": "2024-10-24T04:36:22.370887Z",
     "shell.execute_reply.started": "2024-10-24T04:36:22.074641Z"
    }
   },
   "outputs": [
    {
     "data": {
      "application/vnd.jupyter.widget-view+json": {
       "model_id": "f0ee14d4ab864ea4b058ab96f4e0f8d0",
       "version_major": 2,
       "version_minor": 0
      },
      "text/plain": [
       "VBox()"
      ]
     },
     "metadata": {},
     "output_type": "display_data"
    },
    {
     "data": {
      "application/vnd.jupyter.widget-view+json": {
       "model_id": "",
       "version_major": 2,
       "version_minor": 0
      },
      "text/plain": [
       "FloatProgress(value=0.0, bar_style='info', description='Progress:', layout=Layout(height='25px', width='50%'),…"
      ]
     },
     "metadata": {},
     "output_type": "display_data"
    }
   ],
   "source": [
    "kmeans = KMeans(k=7, seed=1)"
   ]
  },
  {
   "cell_type": "code",
   "execution_count": 32,
   "id": "a19308da-ecb7-4313-981b-1e86bf18773b",
   "metadata": {
    "execution": {
     "iopub.execute_input": "2024-10-24T04:36:50.732714Z",
     "iopub.status.busy": "2024-10-24T04:36:50.732425Z",
     "iopub.status.idle": "2024-10-24T04:37:30.434084Z",
     "shell.execute_reply": "2024-10-24T04:37:30.432716Z",
     "shell.execute_reply.started": "2024-10-24T04:36:50.732680Z"
    },
    "tags": []
   },
   "outputs": [
    {
     "data": {
      "application/vnd.jupyter.widget-view+json": {
       "model_id": "cbcb97efbab6480f9baaf259305a9bc6",
       "version_major": 2,
       "version_minor": 0
      },
      "text/plain": [
       "VBox()"
      ]
     },
     "metadata": {},
     "output_type": "display_data"
    },
    {
     "data": {
      "application/vnd.jupyter.widget-view+json": {
       "model_id": "",
       "version_major": 2,
       "version_minor": 0
      },
      "text/plain": [
       "FloatProgress(value=0.0, bar_style='info', description='Progress:', layout=Layout(height='25px', width='50%'),…"
      ]
     },
     "metadata": {},
     "output_type": "display_data"
    }
   ],
   "source": [
    "model = kmeans.fit(model_data.select('features'))"
   ]
  },
  {
   "cell_type": "code",
   "execution_count": 33,
   "id": "55a65c68-1708-4b2e-ab47-4f8352391ac4",
   "metadata": {
    "execution": {
     "iopub.execute_input": "2024-10-24T04:38:07.395784Z",
     "iopub.status.busy": "2024-10-24T04:38:07.395503Z",
     "iopub.status.idle": "2024-10-24T04:38:07.466047Z",
     "shell.execute_reply": "2024-10-24T04:38:07.465106Z",
     "shell.execute_reply.started": "2024-10-24T04:38:07.395750Z"
    }
   },
   "outputs": [
    {
     "data": {
      "application/vnd.jupyter.widget-view+json": {
       "model_id": "72f88b5105484660a6ea9afa57664b14",
       "version_major": 2,
       "version_minor": 0
      },
      "text/plain": [
       "VBox()"
      ]
     },
     "metadata": {},
     "output_type": "display_data"
    },
    {
     "data": {
      "application/vnd.jupyter.widget-view+json": {
       "model_id": "",
       "version_major": 2,
       "version_minor": 0
      },
      "text/plain": [
       "FloatProgress(value=0.0, bar_style='info', description='Progress:', layout=Layout(height='25px', width='50%'),…"
      ]
     },
     "metadata": {},
     "output_type": "display_data"
    },
    {
     "name": "stderr",
     "output_type": "stream",
     "text": [
      "An error was encountered:\n",
      "'KMeansModel' object has no attribute 'computeCost'\n",
      "Traceback (most recent call last):\n",
      "AttributeError: 'KMeansModel' object has no attribute 'computeCost'\n",
      "\n"
     ]
    }
   ],
   "source": [
    "model.computeCost(model_data)"
   ]
  },
  {
   "cell_type": "code",
   "execution_count": 34,
   "id": "d819bfc1-e551-4f2b-a555-0a6037e5a65d",
   "metadata": {
    "execution": {
     "iopub.execute_input": "2024-10-24T04:38:42.805161Z",
     "iopub.status.busy": "2024-10-24T04:38:42.804884Z",
     "iopub.status.idle": "2024-10-24T04:38:43.605900Z",
     "shell.execute_reply": "2024-10-24T04:38:43.604691Z",
     "shell.execute_reply.started": "2024-10-24T04:38:42.805127Z"
    }
   },
   "outputs": [
    {
     "data": {
      "application/vnd.jupyter.widget-view+json": {
       "model_id": "a10991168e97434caa4c4d9047de42d6",
       "version_major": 2,
       "version_minor": 0
      },
      "text/plain": [
       "VBox()"
      ]
     },
     "metadata": {},
     "output_type": "display_data"
    },
    {
     "data": {
      "application/vnd.jupyter.widget-view+json": {
       "model_id": "",
       "version_major": 2,
       "version_minor": 0
      },
      "text/plain": [
       "FloatProgress(value=0.0, bar_style='info', description='Progress:', layout=Layout(height='25px', width='50%'),…"
      ]
     },
     "metadata": {},
     "output_type": "display_data"
    },
    {
     "name": "stdout",
     "output_type": "stream",
     "text": [
      "+--------------------+-----------+--------+----------+\n",
      "|         artist_name|total_plays|features|prediction|\n",
      "+--------------------+-----------+--------+----------+\n",
      "|         the beatles|       1041|[1041.0]|         4|\n",
      "|           lil wayne|         32|  [32.0]|         0|\n",
      "|      gnarls barkley|        200| [200.0]|         0|\n",
      "|     pedro abrunhosa|        254| [254.0]|         0|\n",
      "|          hoobastank|        313| [313.0]|         2|\n",
      "|             erasure|         16|  [16.0]|         0|\n",
      "|      the verve pipe|        151| [151.0]|         0|\n",
      "|           goldfrapp|        486| [486.0]|         2|\n",
      "|           in flames|        475| [475.0]|         2|\n",
      "|roni size & repra...|         26|  [26.0]|         0|\n",
      "|            mstrkrft|       2102|[2102.0]|         5|\n",
      "|             j dilla|        124| [124.0]|         0|\n",
      "|orchestral manoeu...|        439| [439.0]|         2|\n",
      "|        andrew liles|        248| [248.0]|         0|\n",
      "|         iron maiden|       1523|[1523.0]|         4|\n",
      "|  the tough alliance|        148| [148.0]|         0|\n",
      "|    moving mountains|        351| [351.0]|         2|\n",
      "|               ulver|         52|  [52.0]|         0|\n",
      "|          the smiths|         96|  [96.0]|         0|\n",
      "|          clawfinger|         38|  [38.0]|         0|\n",
      "|   southside rockers|         56|  [56.0]|         0|\n",
      "|             caravan|         30|  [30.0]|         0|\n",
      "|               stars|       8192|[8192.0]|         1|\n",
      "|  the honorary title|       1868|[1868.0]|         5|\n",
      "|        foo fighters|        366| [366.0]|         2|\n",
      "|         limp bizkit|         38|  [38.0]|         0|\n",
      "|          ted nugent|         72|  [72.0]|         0|\n",
      "|    dropkick murphys|        302| [302.0]|         0|\n",
      "|   children of bodom|        913| [913.0]|         4|\n",
      "|     robbie williams|         13|  [13.0]|         0|\n",
      "|          iced earth|       1036|[1036.0]|         4|\n",
      "|         ben kweller|        366| [366.0]|         2|\n",
      "|          nopsajalka|         77|  [77.0]|         0|\n",
      "|           the kooks|        225| [225.0]|         0|\n",
      "|                dido|         13|  [13.0]|         0|\n",
      "|         talib kweli|         45|  [45.0]|         0|\n",
      "|               jewel|        281| [281.0]|         0|\n",
      "|           do or die|         44|  [44.0]|         0|\n",
      "|                pelt|         41|  [41.0]|         0|\n",
      "|           chris rea|         73|  [73.0]|         0|\n",
      "|             naglfar|          3|   [3.0]|         0|\n",
      "|         the streets|        138| [138.0]|         0|\n",
      "|   future prophecies|         51|  [51.0]|         0|\n",
      "|        dixie chicks|        110| [110.0]|         0|\n",
      "|            evidence|         69|  [69.0]|         0|\n",
      "|            bon iver|        323| [323.0]|         2|\n",
      "|         the sundays|        118| [118.0]|         0|\n",
      "|              mecano|          3|   [3.0]|         0|\n",
      "|        gwen stefani|        122| [122.0]|         0|\n",
      "|         ambassadöör|         55|  [55.0]|         0|\n",
      "|        frank london|         45|  [45.0]|         0|\n",
      "|  the postal service|         75|  [75.0]|         0|\n",
      "|        jim sturgess|       2427|[2427.0]|         5|\n",
      "|        the go! team|        712| [712.0]|         2|\n",
      "|    the one ensemble|         55|  [55.0]|         0|\n",
      "|          desireless|         39|  [39.0]|         0|\n",
      "|               earth|        282| [282.0]|         0|\n",
      "|             sublime|        136| [136.0]|         0|\n",
      "|    enrique iglesias|          3|   [3.0]|         0|\n",
      "|           cocorosie|        386| [386.0]|         2|\n",
      "|          the ataris|        203| [203.0]|         0|\n",
      "|        flying steps|         67|  [67.0]|         0|\n",
      "|          nickelback|         10|  [10.0]|         0|\n",
      "|    a static lullaby|          5|   [5.0]|         0|\n",
      "|           bif naked|        134| [134.0]|         0|\n",
      "|        deep insight|         59|  [59.0]|         0|\n",
      "|            bill fay|         92|  [92.0]|         0|\n",
      "|              hanson|        728| [728.0]|         2|\n",
      "|     apes & androids|         67|  [67.0]|         0|\n",
      "|          the police|         75|  [75.0]|         0|\n",
      "|     groove coverage|        183| [183.0]|         0|\n",
      "|     håkan hellström|        463| [463.0]|         2|\n",
      "|              edurne|          4|   [4.0]|         0|\n",
      "|          jeff mills|         52|  [52.0]|         0|\n",
      "|     polar bear club|       4091|[4091.0]|         6|\n",
      "|              m.i.a.|        589| [589.0]|         2|\n",
      "|       charalambides|        193| [193.0]|         0|\n",
      "|           cauterize|        271| [271.0]|         0|\n",
      "|               dover|         59|  [59.0]|         0|\n",
      "|   angels & airwaves|        753| [753.0]|         2|\n",
      "|           castanets|         64|  [64.0]|         0|\n",
      "|    four year strong|        567| [567.0]|         2|\n",
      "|     the commitments|         89|  [89.0]|         0|\n",
      "|bullet for my val...|         49|  [49.0]|         0|\n",
      "|          sadetanssi|         45|  [45.0]|         0|\n",
      "|           metallica|        731| [731.0]|         2|\n",
      "|                tool|        788| [788.0]|         2|\n",
      "|     efecto mariposa|          3|   [3.0]|         0|\n",
      "|    nurse with wound|         88|  [88.0]|         0|\n",
      "|        patrick wolf|        801| [801.0]|         2|\n",
      "|                feel|        401| [401.0]|         2|\n",
      "|        the warlocks|         31|  [31.0]|         0|\n",
      "|  the fiery furnaces|        543| [543.0]|         2|\n",
      "|         the calling|         59|  [59.0]|         0|\n",
      "|         iron savior|        601| [601.0]|         2|\n",
      "|     franz ferdinand|        276| [276.0]|         0|\n",
      "|       guns n' roses|        401| [401.0]|         2|\n",
      "|            klamydia|         62|  [62.0]|         0|\n",
      "|       dream theater|       1092|[1092.0]|         4|\n",
      "|             kromlek|         16|  [16.0]|         0|\n",
      "+--------------------+-----------+--------+----------+\n",
      "only showing top 100 rows"
     ]
    }
   ],
   "source": [
    "output = model.transform(model_data)\n",
    "output.show(100)  "
   ]
  },
  {
   "cell_type": "code",
   "execution_count": 35,
   "id": "37eb9970-6662-4a97-8004-7352afdb61b7",
   "metadata": {
    "execution": {
     "iopub.execute_input": "2024-10-24T04:39:21.927298Z",
     "iopub.status.busy": "2024-10-24T04:39:21.926991Z",
     "iopub.status.idle": "2024-10-24T04:39:22.204840Z",
     "shell.execute_reply": "2024-10-24T04:39:22.203704Z",
     "shell.execute_reply.started": "2024-10-24T04:39:21.927264Z"
    }
   },
   "outputs": [
    {
     "data": {
      "application/vnd.jupyter.widget-view+json": {
       "model_id": "2ae28d6370ab4c388f9df863224d2ebb",
       "version_major": 2,
       "version_minor": 0
      },
      "text/plain": [
       "VBox()"
      ]
     },
     "metadata": {},
     "output_type": "display_data"
    },
    {
     "data": {
      "application/vnd.jupyter.widget-view+json": {
       "model_id": "",
       "version_major": 2,
       "version_minor": 0
      },
      "text/plain": [
       "FloatProgress(value=0.0, bar_style='info', description='Progress:', layout=Layout(height='25px', width='50%'),…"
      ]
     },
     "metadata": {},
     "output_type": "display_data"
    },
    {
     "name": "stdout",
     "output_type": "stream",
     "text": [
      "Cluster Centers: \n",
      "[93.67993367]\n",
      "[10682.33333333]\n",
      "[517.96531792]\n",
      "[5438.83333333]\n",
      "[1204.91489362]\n",
      "[2157.11111111]\n",
      "[3760.14285714]"
     ]
    }
   ],
   "source": [
    "centers = model.clusterCenters()\n",
    "print(\"Cluster Centers: \")\n",
    "for center in centers:\n",
    "   print(center)"
   ]
  },
  {
   "cell_type": "code",
   "execution_count": 40,
   "id": "4999e83f-27db-4b36-8672-a5f0eafffdb5",
   "metadata": {
    "execution": {
     "iopub.execute_input": "2024-10-24T04:55:39.543139Z",
     "iopub.status.busy": "2024-10-24T04:55:39.542810Z",
     "iopub.status.idle": "2024-10-24T04:55:40.338099Z",
     "shell.execute_reply": "2024-10-24T04:55:40.336769Z",
     "shell.execute_reply.started": "2024-10-24T04:55:39.543102Z"
    }
   },
   "outputs": [
    {
     "data": {
      "application/vnd.jupyter.widget-view+json": {
       "model_id": "2acd007730474a51aff06ecd24a75b46",
       "version_major": 2,
       "version_minor": 0
      },
      "text/plain": [
       "VBox()"
      ]
     },
     "metadata": {},
     "output_type": "display_data"
    },
    {
     "data": {
      "application/vnd.jupyter.widget-view+json": {
       "model_id": "",
       "version_major": 2,
       "version_minor": 0
      },
      "text/plain": [
       "FloatProgress(value=0.0, bar_style='info', description='Progress:', layout=Layout(height='25px', width='50%'),…"
      ]
     },
     "metadata": {},
     "output_type": "display_data"
    },
    {
     "name": "stdout",
     "output_type": "stream",
     "text": [
      "+--------------------+-----------+--------+----------+\n",
      "|         artist_name|total_plays|features|prediction|\n",
      "+--------------------+-----------+--------+----------+\n",
      "|         the beatles|       1041|[1041.0]|         4|\n",
      "|           lil wayne|         32|  [32.0]|         0|\n",
      "|      gnarls barkley|        200| [200.0]|         0|\n",
      "|     pedro abrunhosa|        254| [254.0]|         0|\n",
      "|          hoobastank|        313| [313.0]|         2|\n",
      "|             erasure|         16|  [16.0]|         0|\n",
      "|      the verve pipe|        151| [151.0]|         0|\n",
      "|           goldfrapp|        486| [486.0]|         2|\n",
      "|           in flames|        475| [475.0]|         2|\n",
      "|roni size & repra...|         26|  [26.0]|         0|\n",
      "|            mstrkrft|       2102|[2102.0]|         5|\n",
      "|             j dilla|        124| [124.0]|         0|\n",
      "|orchestral manoeu...|        439| [439.0]|         2|\n",
      "|        andrew liles|        248| [248.0]|         0|\n",
      "|         iron maiden|       1523|[1523.0]|         4|\n",
      "|  the tough alliance|        148| [148.0]|         0|\n",
      "|    moving mountains|        351| [351.0]|         2|\n",
      "|               ulver|         52|  [52.0]|         0|\n",
      "|          the smiths|         96|  [96.0]|         0|\n",
      "|          clawfinger|         38|  [38.0]|         0|\n",
      "+--------------------+-----------+--------+----------+\n",
      "only showing top 20 rows"
     ]
    }
   ],
   "source": [
    "output.show()"
   ]
  },
  {
   "cell_type": "code",
   "execution_count": 41,
   "id": "0b66cb7e-2225-4ebe-a443-f7c15d693ee0",
   "metadata": {
    "execution": {
     "iopub.execute_input": "2024-10-24T04:56:38.940199Z",
     "iopub.status.busy": "2024-10-24T04:56:38.939918Z",
     "iopub.status.idle": "2024-10-24T04:56:39.755748Z",
     "shell.execute_reply": "2024-10-24T04:56:39.754590Z",
     "shell.execute_reply.started": "2024-10-24T04:56:38.940165Z"
    }
   },
   "outputs": [
    {
     "data": {
      "application/vnd.jupyter.widget-view+json": {
       "model_id": "1b88e3dc486343c28d1563f419613b53",
       "version_major": 2,
       "version_minor": 0
      },
      "text/plain": [
       "VBox()"
      ]
     },
     "metadata": {},
     "output_type": "display_data"
    },
    {
     "data": {
      "application/vnd.jupyter.widget-view+json": {
       "model_id": "",
       "version_major": 2,
       "version_minor": 0
      },
      "text/plain": [
       "FloatProgress(value=0.0, bar_style='info', description='Progress:', layout=Layout(height='25px', width='50%'),…"
      ]
     },
     "metadata": {},
     "output_type": "display_data"
    },
    {
     "name": "stdout",
     "output_type": "stream",
     "text": [
      "+--------------------+-----------+----------+\n",
      "|         artist_name|total_plays|prediction|\n",
      "+--------------------+-----------+----------+\n",
      "|the most serene r...|      12763|         1|\n",
      "|     nine inch nails|      11092|         1|\n",
      "|               stars|       8192|         1|\n",
      "| broken social scene|       6557|         3|\n",
      "|          have heart|       5361|         3|\n",
      "|         bright eyes|       5322|         3|\n",
      "|      arctic monkeys|       5163|         3|\n",
      "|     luminous orange|       5120|         3|\n",
      "|               boris|       5110|         3|\n",
      "|coaltar of the de...|       4143|         6|\n",
      "|     polar bear club|       4091|         6|\n",
      "|      the libertines|       3916|         6|\n",
      "|           blink-182|       3855|         6|\n",
      "|            coldplay|       3854|         6|\n",
      "|death from above ...|       3315|         6|\n",
      "|            owl city|       3147|         6|\n",
      "|           radiohead|       2836|         5|\n",
      "|      okkervil river|       2641|         5|\n",
      "|        jim sturgess|       2427|         5|\n",
      "|david & the citizens|       2373|         5|\n",
      "+--------------------+-----------+----------+\n",
      "only showing top 20 rows"
     ]
    }
   ],
   "source": [
    "output.createTempView('output_view4')\n",
    "spark.sql(\"select artist_name, total_plays, prediction from output_view4 order by total_plays desc limit 100\").show()"
   ]
  },
  {
   "cell_type": "code",
   "execution_count": 42,
   "id": "650b479d-4849-48e6-a8ff-6c35d6ffca5b",
   "metadata": {
    "execution": {
     "iopub.execute_input": "2024-10-24T04:58:07.364034Z",
     "iopub.status.busy": "2024-10-24T04:58:07.363723Z",
     "iopub.status.idle": "2024-10-24T04:58:07.430449Z",
     "shell.execute_reply": "2024-10-24T04:58:07.429342Z",
     "shell.execute_reply.started": "2024-10-24T04:58:07.364001Z"
    }
   },
   "outputs": [
    {
     "data": {
      "application/vnd.jupyter.widget-view+json": {
       "model_id": "864c9dc58ffc4db78052ee297e9b5394",
       "version_major": 2,
       "version_minor": 0
      },
      "text/plain": [
       "VBox()"
      ]
     },
     "metadata": {},
     "output_type": "display_data"
    },
    {
     "data": {
      "application/vnd.jupyter.widget-view+json": {
       "model_id": "",
       "version_major": 2,
       "version_minor": 0
      },
      "text/plain": [
       "FloatProgress(value=0.0, bar_style='info', description='Progress:', layout=Layout(height='25px', width='50%'),…"
      ]
     },
     "metadata": {},
     "output_type": "display_data"
    }
   ],
   "source": [
    "#EVALUATION"
   ]
  },
  {
   "cell_type": "code",
   "execution_count": 43,
   "id": "f983901d-a3ad-422c-98ef-cdd671b7ff09",
   "metadata": {
    "execution": {
     "iopub.execute_input": "2024-10-24T04:58:21.001068Z",
     "iopub.status.busy": "2024-10-24T04:58:21.000788Z",
     "iopub.status.idle": "2024-10-24T04:58:21.073209Z",
     "shell.execute_reply": "2024-10-24T04:58:21.072057Z",
     "shell.execute_reply.started": "2024-10-24T04:58:21.001034Z"
    }
   },
   "outputs": [
    {
     "data": {
      "application/vnd.jupyter.widget-view+json": {
       "model_id": "c453b405d324429db605607cf708e849",
       "version_major": 2,
       "version_minor": 0
      },
      "text/plain": [
       "VBox()"
      ]
     },
     "metadata": {},
     "output_type": "display_data"
    },
    {
     "data": {
      "application/vnd.jupyter.widget-view+json": {
       "model_id": "",
       "version_major": 2,
       "version_minor": 0
      },
      "text/plain": [
       "FloatProgress(value=0.0, bar_style='info', description='Progress:', layout=Layout(height='25px', width='50%'),…"
      ]
     },
     "metadata": {},
     "output_type": "display_data"
    }
   ],
   "source": [
    "evaluator = ClusteringEvaluator()"
   ]
  },
  {
   "cell_type": "code",
   "execution_count": 44,
   "id": "33dc5fd1-5534-4d7a-90c6-b4f6a3c1a773",
   "metadata": {
    "execution": {
     "iopub.execute_input": "2024-10-24T04:58:45.344284Z",
     "iopub.status.busy": "2024-10-24T04:58:45.344001Z",
     "iopub.status.idle": "2024-10-24T04:58:50.703039Z",
     "shell.execute_reply": "2024-10-24T04:58:50.701558Z",
     "shell.execute_reply.started": "2024-10-24T04:58:45.344249Z"
    }
   },
   "outputs": [
    {
     "data": {
      "application/vnd.jupyter.widget-view+json": {
       "model_id": "972e2760d10e49b78f0b9fed9588e6f2",
       "version_major": 2,
       "version_minor": 0
      },
      "text/plain": [
       "VBox()"
      ]
     },
     "metadata": {},
     "output_type": "display_data"
    },
    {
     "data": {
      "application/vnd.jupyter.widget-view+json": {
       "model_id": "",
       "version_major": 2,
       "version_minor": 0
      },
      "text/plain": [
       "FloatProgress(value=0.0, bar_style='info', description='Progress:', layout=Layout(height='25px', width='50%'),…"
      ]
     },
     "metadata": {},
     "output_type": "display_data"
    }
   ],
   "source": [
    "silhouette = evaluator.evaluate(output)"
   ]
  },
  {
   "cell_type": "code",
   "execution_count": 45,
   "id": "6dac2c54-c103-432b-8529-c7cbcb30f360",
   "metadata": {
    "execution": {
     "iopub.execute_input": "2024-10-24T04:59:22.432951Z",
     "iopub.status.busy": "2024-10-24T04:59:22.432650Z",
     "iopub.status.idle": "2024-10-24T04:59:22.496454Z",
     "shell.execute_reply": "2024-10-24T04:59:22.495181Z",
     "shell.execute_reply.started": "2024-10-24T04:59:22.432918Z"
    }
   },
   "outputs": [
    {
     "data": {
      "application/vnd.jupyter.widget-view+json": {
       "model_id": "76873a17a2404cd981ea028a21f4f06f",
       "version_major": 2,
       "version_minor": 0
      },
      "text/plain": [
       "VBox()"
      ]
     },
     "metadata": {},
     "output_type": "display_data"
    },
    {
     "data": {
      "application/vnd.jupyter.widget-view+json": {
       "model_id": "",
       "version_major": 2,
       "version_minor": 0
      },
      "text/plain": [
       "FloatProgress(value=0.0, bar_style='info', description='Progress:', layout=Layout(height='25px', width='50%'),…"
      ]
     },
     "metadata": {},
     "output_type": "display_data"
    },
    {
     "name": "stdout",
     "output_type": "stream",
     "text": [
      "0.8448509767195086"
     ]
    }
   ],
   "source": [
    "print(silhouette)"
   ]
  },
  {
   "cell_type": "code",
   "execution_count": 46,
   "id": "2e7395c3-7fb2-4fd6-97a5-02cc29abcc6a",
   "metadata": {
    "execution": {
     "iopub.execute_input": "2024-10-24T05:00:00.171837Z",
     "iopub.status.busy": "2024-10-24T05:00:00.171523Z",
     "iopub.status.idle": "2024-10-24T05:00:00.236622Z",
     "shell.execute_reply": "2024-10-24T05:00:00.235618Z",
     "shell.execute_reply.started": "2024-10-24T05:00:00.171802Z"
    }
   },
   "outputs": [
    {
     "data": {
      "application/vnd.jupyter.widget-view+json": {
       "model_id": "9058b05e2fca4d56820f8c2538bb0758",
       "version_major": 2,
       "version_minor": 0
      },
      "text/plain": [
       "VBox()"
      ]
     },
     "metadata": {},
     "output_type": "display_data"
    },
    {
     "data": {
      "application/vnd.jupyter.widget-view+json": {
       "model_id": "",
       "version_major": 2,
       "version_minor": 0
      },
      "text/plain": [
       "FloatProgress(value=0.0, bar_style='info', description='Progress:', layout=Layout(height='25px', width='50%'),…"
      ]
     },
     "metadata": {},
     "output_type": "display_data"
    }
   ],
   "source": [
    "#ELBOW METHOD"
   ]
  },
  {
   "cell_type": "code",
   "execution_count": 48,
   "id": "8b948747-634b-4b4a-aa27-f3169e0a3495",
   "metadata": {
    "execution": {
     "iopub.execute_input": "2024-10-24T05:05:07.719311Z",
     "iopub.status.busy": "2024-10-24T05:05:07.719017Z",
     "iopub.status.idle": "2024-10-24T05:06:04.562086Z",
     "shell.execute_reply": "2024-10-24T05:06:04.561134Z",
     "shell.execute_reply.started": "2024-10-24T05:05:07.719276Z"
    },
    "tags": []
   },
   "outputs": [
    {
     "data": {
      "application/vnd.jupyter.widget-view+json": {
       "model_id": "7cd8d0c1ed2d41298f85a2b6ac625fa5",
       "version_major": 2,
       "version_minor": 0
      },
      "text/plain": [
       "VBox()"
      ]
     },
     "metadata": {},
     "output_type": "display_data"
    },
    {
     "data": {
      "application/vnd.jupyter.widget-view+json": {
       "model_id": "",
       "version_major": 2,
       "version_minor": 0
      },
      "text/plain": [
       "FloatProgress(value=0.0, bar_style='info', description='Progress:', layout=Layout(height='25px', width='50%'),…"
      ]
     },
     "metadata": {},
     "output_type": "display_data"
    },
    {
     "name": "stdout",
     "output_type": "stream",
     "text": [
      "K :   3\n",
      "K :   7\n",
      "K :   10"
     ]
    }
   ],
   "source": [
    "ks = [3,7,10]\n",
    "\n",
    "costfunction = []\n",
    "for k_num in ks:\n",
    "\n",
    "    # build kmeans model with k as no of cluster\n",
    "    print(\"K :  \",k_num)\n",
    "\n",
    "    model_k = KMeans(k=k_num , seed=1)\n",
    "\n",
    "    # train the model\n",
    "    model = model_k.fit(model_data.select('features'))\n",
    "    \n",
    "    cost = model.summary.trainingCost\n",
    "\n",
    "    # Append costfunction to list of costfunction\n",
    "    costfunction.append(cost)"
   ]
  },
  {
   "cell_type": "code",
   "execution_count": 53,
   "id": "adc76609-4449-48e7-8bdc-c9d2206649f6",
   "metadata": {
    "execution": {
     "iopub.execute_input": "2024-10-24T05:10:11.123260Z",
     "iopub.status.busy": "2024-10-24T05:10:11.122956Z",
     "iopub.status.idle": "2024-10-24T05:10:11.190711Z",
     "shell.execute_reply": "2024-10-24T05:10:11.187510Z",
     "shell.execute_reply.started": "2024-10-24T05:10:11.123225Z"
    },
    "tags": []
   },
   "outputs": [
    {
     "data": {
      "application/vnd.jupyter.widget-view+json": {
       "model_id": "c732ae6c2b7d4d68ae8e4658add7d983",
       "version_major": 2,
       "version_minor": 0
      },
      "text/plain": [
       "VBox()"
      ]
     },
     "metadata": {},
     "output_type": "display_data"
    },
    {
     "data": {
      "application/vnd.jupyter.widget-view+json": {
       "model_id": "",
       "version_major": 2,
       "version_minor": 0
      },
      "text/plain": [
       "FloatProgress(value=0.0, bar_style='info', description='Progress:', layout=Layout(height='25px', width='50%'),…"
      ]
     },
     "metadata": {},
     "output_type": "display_data"
    }
   ],
   "source": [
    "#To visualise the cost, we can do following\n",
    "#import matplotlib.pyplot as plt\n",
    "\n",
    "#plt.clf()\n",
    "\n",
    "\n",
    "# Plot k vs cost_function\n",
    "#plt.plot(ks, costfunction, '-o')\n",
    "#plt.xlabel('number of clusters, k')\n",
    "#plt.ylabel('cost function')\n",
    "#plt.xticks(ks)\n",
    "#plt.show()\n",
    "\n",
    "#%matplot plt"
   ]
  },
  {
   "cell_type": "code",
   "execution_count": null,
   "id": "d1dd2bef-5a7e-44c9-8c6a-f37b65dff878",
   "metadata": {
    "tags": []
   },
   "outputs": [],
   "source": [
    "\n"
   ]
  },
  {
   "cell_type": "code",
   "execution_count": null,
   "id": "0d2d1641-568d-4372-9d6e-e1c96772032c",
   "metadata": {},
   "outputs": [],
   "source": []
  }
 ],
 "metadata": {
  "kernelspec": {
   "display_name": "PySpark",
   "language": "python",
   "name": "pysparkkernel"
  },
  "language_info": {
   "codemirror_mode": {
    "name": "python",
    "version": 3
   },
   "file_extension": ".py",
   "mimetype": "text/x-python",
   "name": "pyspark",
   "pygments_lexer": "python3"
  }
 },
 "nbformat": 4,
 "nbformat_minor": 5
}
